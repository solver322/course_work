{
 "cells": [
  {
   "cell_type": "markdown",
   "id": "f9241f45",
   "metadata": {},
   "source": [
    "# imports"
   ]
  },
  {
   "cell_type": "code",
   "execution_count": null,
   "id": "56a6f57c",
   "metadata": {},
   "outputs": [],
   "source": [
    "import datetime\n",
    "\n",
    "import plotly\n",
    "import plotly.graph_objects as go\n",
    "import seaborn as sns\n",
    "sns.set(style=\"ticks\")\n",
    "sns.set_style(\"darkgrid\")\n",
    "import random \n",
    "import sys\n",
    "\n",
    "import json\n",
    "from numba.types import bool_, int_, float32\n",
    "\n",
    "import numpy as np\n",
    "import pandas as pd\n",
    "\n",
    "import os\n",
    "import inspect\n",
    "from tqdm import tqdm\n",
    "from multiprocessing.pool import ThreadPool\n",
    "from datetime import datetime\n",
    "import matplotlib.pyplot as plt\n",
    "\n",
    "import plotly.express as px\n",
    "import plotly.graph_objects as go\n",
    "from tqdm.notebook import trange, tqdm\n",
    "from plotly.subplots import make_subplots\n",
    "\n",
    "\n",
    "get_ipython().run_line_magic('load_ext', 'autoreload')\n",
    "\n",
    "get_ipython().run_line_magic('autoreload', '2')\n",
    "get_ipython().run_line_magic('reload_ext', 'autoreload')"
   ]
  },
  {
   "cell_type": "markdown",
   "id": "6255e364",
   "metadata": {},
   "source": [
    "# download_data"
   ]
  },
  {
   "cell_type": "code",
   "execution_count": null,
   "id": "4d789ee9",
   "metadata": {},
   "outputs": [],
   "source": [
    "name = 'BinanceFuturesBTCUSDT'\n",
    "\n",
    "instrument_tick_size = 0.1\n",
    "instrument_contract_size = 0.001\n",
    "\n",
    "start_time = '2023-04-01 00:00:00'\n",
    "end_time = '2023-04-21 00:00:00'"
   ]
  },
  {
   "cell_type": "code",
   "execution_count": null,
   "id": "77eeaf21",
   "metadata": {},
   "outputs": [],
   "source": [
    "def aggregate_trades(trades, instrument_contract_size, instrument_tick_size):\n",
    "    trades['volume_usd'] = (trades['volume'] * instrument_contract_size) * (trades['price'] * instrument_tick_size)\n",
    "\n",
    "    from collections import defaultdict\n",
    "\n",
    "\n",
    "    trades_aggregated_by_exchange_ts = defaultdict(lambda: defaultdict(list))\n",
    "    for trade_ts, row in zip(trades['exchange_ts'], trades.values):\n",
    "        price = row[3]\n",
    "        maker_side = row[5]\n",
    "        volume = row[4]\n",
    "        volume_usd = row[6]\n",
    "\n",
    "        trades_aggregated_by_exchange_ts[trade_ts][(price, maker_side)].append((\n",
    "            volume,\n",
    "            volume_usd,\n",
    "        ))\n",
    "\n",
    "    trades_data = []\n",
    "    for exchange_ts, ts_data in trades_aggregated_by_exchange_ts.items():\n",
    "        ts_fr = datetime.datetime.fromtimestamp(exchange_ts / 1e9)\n",
    "        for (price, maker_side), volumes in ts_data.items():     \n",
    "            np_volumes = np.array(volumes)\n",
    "            trades_data.append((\n",
    "                exchange_ts,\n",
    "                price,\n",
    "                np_volumes[:,0].sum(),\n",
    "                np_volumes[:,1].sum(),\n",
    "                maker_side,\n",
    "                ts_fr\n",
    "            ))\n",
    "\n",
    "    trades_aggregated = pd.DataFrame(trades_data, columns=[\n",
    "        'exchange_ts',\n",
    "        'price',\n",
    "        'volume',\n",
    "        'volume_usd',\n",
    "        'maker_side',\n",
    "        'ts_fr',\n",
    "    ])\n",
    "    return trades_aggregated"
   ]
  },
  {
   "cell_type": "code",
   "execution_count": null,
   "id": "a942d6f7",
   "metadata": {},
   "outputs": [],
   "source": [
    "def get_trades_agg(market_data_path, instrument_tick_size, instrument_contract_size):\n",
    "    trades = pd.read_csv(market_data_path)\n",
    "    \n",
    "    trades_agg = aggregate_trades(trades=trades.drop(['instrument', 'trade_id'], axis=1),\\\n",
    "                                  instrument_tick_size=instrument_tick_size, \n",
    "                                  instrument_contract_size=instrument_contract_size)\n",
    "    \n",
    "    trades_agg['time'] = pd.to_datetime(trades_agg['exchange_ts'])\n",
    "    return trades_agg"
   ]
  },
  {
   "cell_type": "code",
   "execution_count": null,
   "id": "d56305d3",
   "metadata": {},
   "outputs": [],
   "source": [
    "order_books = pd.read_csv('order_books') # add_path"
   ]
  },
  {
   "cell_type": "code",
   "execution_count": null,
   "id": "67015c71",
   "metadata": {},
   "outputs": [],
   "source": [
    "trades_agg = get_trades_agg(\n",
    "    'trades', # add_path\n",
    "    instrument_tick_size, instrument_contract_size)"
   ]
  },
  {
   "cell_type": "code",
   "execution_count": null,
   "id": "3307e833",
   "metadata": {},
   "outputs": [],
   "source": [
    "trades_agg['price'] = trades_agg['price'].astype(np.int64)"
   ]
  },
  {
   "cell_type": "markdown",
   "id": "f3f9970c",
   "metadata": {},
   "source": [
    "# make stats"
   ]
  },
  {
   "cell_type": "code",
   "execution_count": null,
   "id": "9d0f75e6",
   "metadata": {},
   "outputs": [],
   "source": [
    "def add_target_to_ob(order_books, trades_agg, max_ts):\n",
    "    print(max_ts)\n",
    "    order_books['target_ask'] = 0\n",
    "    order_books['target_bid'] = 0\n",
    "    np_result = order_books[['target_ask', 'target_bid']].to_numpy()\n",
    "    \n",
    "    np_ob_ts = order_books['exchange_ts'].to_numpy()\n",
    "    \n",
    "    np_trades_ask_ts = trades_agg[trades_agg.maker_side == -1.0]['exchange_ts'].to_numpy()\n",
    "    np_trades_bid_ts = trades_agg[trades_agg.maker_side == 1.0]['exchange_ts'].to_numpy()\n",
    "    \n",
    "    np_best_ask = order_books['ask_price_1'].to_numpy()\n",
    "    np_best_bid = order_books['bid_price_1'].to_numpy()\n",
    "    \n",
    "    np_trades_ask = trades_agg[trades_agg.maker_side == -1.0]['price'].reset_index(drop=True).to_numpy()\n",
    "    np_trades_bid = trades_agg[trades_agg.maker_side == 1.0]['price'].reset_index(drop=True).to_numpy()\n",
    "    \n",
    "    @nb.njit()\n",
    "    def fast_add(np_result, np_ob_ts, np_trades_ask_ts, np_trades_bid_ts, max_ts,\n",
    "                 np_best_ask, np_best_bid,\n",
    "                 np_trades_ask, np_trades_bid):\n",
    "        ind_ts_ask_min = 0\n",
    "        ind_ts_bid_min = 0\n",
    "        \n",
    "        ind_ts_ask_max = 0\n",
    "        ind_ts_bid_max = 0\n",
    "        \n",
    "        \n",
    "        for ind in range(len(np_ob_ts)):\n",
    "            \n",
    "            while ind_ts_ask_min + 1 != len(np_trades_ask) and\\\n",
    "                    np_ob_ts[ind] >= np_trades_ask_ts[ind_ts_ask_min]:\n",
    "                ind_ts_ask_min += 1\n",
    "            \n",
    "            while ind_ts_ask_max + 1 != len(np_trades_ask) and\\\n",
    "                    np_ob_ts[ind] + max_ts >= np_trades_ask_ts[ind_ts_ask_max]:\n",
    "                ind_ts_ask_max += 1\n",
    "            \n",
    "            mx = np_best_ask[ind]\n",
    "            for i in range(ind_ts_ask_min, ind_ts_ask_max):\n",
    "                mx = max(mx, np_trades_ask[i])\n",
    "            \n",
    "            np_result[ind, 0] = mx - np_best_ask[ind]\n",
    "            \n",
    "            \n",
    "            while ind_ts_bid_min + 1 != len(np_trades_bid) and\\\n",
    "                    np_ob_ts[ind] >= np_trades_bid_ts[ind_ts_bid_min]:\n",
    "                ind_ts_bid_min += 1\n",
    "            \n",
    "            while ind_ts_bid_max + 1 != len(np_trades_bid) and\\\n",
    "                    np_ob_ts[ind] + max_ts >= np_trades_bid_ts[ind_ts_bid_max]:\n",
    "                ind_ts_bid_max += 1\n",
    "            \n",
    "            mn = np_best_bid[ind]\n",
    "            for i in range(ind_ts_bid_min, ind_ts_bid_max):\n",
    "                mn = min(mn, np_trades_bid[i])\n",
    "                \n",
    "            np_result[ind, 1] = np_best_bid[ind] - mn\n",
    "        \n",
    "    fast_add(np_result, np_ob_ts, np_trades_ask_ts, np_trades_bid_ts, max_ts,\n",
    "                 np_best_ask, np_best_bid,\n",
    "                 np_trades_ask, np_trades_bid)\n",
    "    order_books['target_ask'] = np_result[:, 0]\n",
    "    order_books['target_bid'] = np_result[:, 1]"
   ]
  },
  {
   "cell_type": "code",
   "execution_count": null,
   "id": "b9152973",
   "metadata": {},
   "outputs": [],
   "source": [
    "def add_midprice(order_books, ts):\n",
    "    feature_name = f'midprice_{int(ts/1e9)}sec'\n",
    "    order_books[feature_name] = 0.0\n",
    "    order_books['midprice'] = (order_books['ask_price_1'] + order_books['bid_price_1']) / 2.0\n",
    "    \n",
    "    np_ob_ts = order_books['exchange_ts'].to_numpy()\n",
    "    np_midprice = order_books['midprice'].to_numpy()\n",
    "    np_result = order_books[feature_name].to_numpy()\n",
    "    \n",
    "    @nb.njit()\n",
    "    def fast_add_midprice(np_ob_ts, np_midprice, np_result, ts):\n",
    "        mx_ind = 0\n",
    "        \n",
    "        for ind in range(len(np_ob_ts)):\n",
    "            while mx_ind + 1 < len(np_ob_ts) and np_ob_ts[ind] + ts >= np_ob_ts[mx_ind]:\n",
    "                mx_ind += 1\n",
    "            np_result[ind] = np_midprice[mx_ind]\n",
    "        \n",
    "        \n",
    "    fast_add_midprice(np_ob_ts, np_midprice, np_result, ts)\n",
    "    order_books[feature_name] = np_result"
   ]
  },
  {
   "cell_type": "code",
   "execution_count": null,
   "id": "4d212bf7",
   "metadata": {},
   "outputs": [],
   "source": [
    "add_target_to_ob(order_books, trades_agg, 100000000)"
   ]
  },
  {
   "cell_type": "code",
   "execution_count": null,
   "id": "7ee3df14",
   "metadata": {},
   "outputs": [],
   "source": [
    "add_midprice(order_books, 5 * 1000000000)"
   ]
  },
  {
   "cell_type": "code",
   "execution_count": null,
   "id": "b505757c",
   "metadata": {},
   "outputs": [],
   "source": [
    "data = order_books[(order_books.target_ask != 0) | (order_books.target_bid != 0)]"
   ]
  },
  {
   "cell_type": "code",
   "execution_count": null,
   "id": "221a8007",
   "metadata": {},
   "outputs": [],
   "source": [
    "data['target_ask'] -= 1\n",
    "data['target_bid'] -= 1"
   ]
  },
  {
   "cell_type": "code",
   "execution_count": null,
   "id": "1ff2aad1",
   "metadata": {},
   "outputs": [],
   "source": [
    "data['midprice_profit_5sec_ask'] = (data['ask_price_1'] + data['target_ask'] - data['midprice_5sec']\n",
    "                                    - data['ask_price_1'] * (-5e-5)) * instrument_contract_size\n",
    "\n",
    "data['midprice_profit_5sec_bid'] = (data['midprice_5sec'] - (data['bid_price_1'] - data['target_bid']) \n",
    "                                    - data['bid_price_1'] * (-5e-5)) * instrument_contract_size"
   ]
  },
  {
   "cell_type": "markdown",
   "id": "bad48946",
   "metadata": {},
   "source": [
    "# profit calculating"
   ]
  },
  {
   "cell_type": "code",
   "execution_count": null,
   "id": "14a6bd0a",
   "metadata": {},
   "outputs": [],
   "source": [
    "print('profit: ', data[(data.target_bid >= mn) & (data.target_bid < mx)].midprice_profit_5sec_bid.sum() * instrument_tick_size)\n",
    "print('cnt: ', len(data[(data.target_bid >= mn) & (data.target_bid < mx)]))"
   ]
  },
  {
   "cell_type": "code",
   "execution_count": null,
   "id": "9d4e6d00",
   "metadata": {},
   "outputs": [],
   "source": [
    "mn = 0\n",
    "mx = 100\n",
    "\n",
    "to_plot = data[(data.target_bid >= mn) & (data.target_bid < mx)]\n",
    "\n",
    "plt.figure(figsize=(10,6))\n",
    "plt.hist(to_plot['target_bid'], weights=to_plot['midprice_profit_5sec_bid'] * instrument_tick_size, bins = (mx - mn))\n",
    "plt.ylabel('mid-price profit 5sec sum')\n",
    "plt.xlabel('max_distance')\n",
    "plt.show()\n",
    "\n",
    "mn = 15\n",
    "mx = 100\n",
    "\n",
    "to_plot = data[(data.target_bid >= mn) & (data.target_bid < mx)]\n",
    "\n",
    "plt.figure(figsize=(10,6))\n",
    "plt.hist(to_plot['target_bid'], weights=to_plot['midprice_profit_5sec_bid'] * instrument_tick_size, bins = (mx - mn))\n",
    "plt.ylabel('mid-price profit 5sec sum')\n",
    "plt.xlabel('max_distance')\n",
    "plt.show()"
   ]
  },
  {
   "cell_type": "markdown",
   "id": "7f68f35e",
   "metadata": {},
   "source": [
    "# CATBOOST"
   ]
  },
  {
   "cell_type": "code",
   "execution_count": null,
   "id": "6b8d5a98",
   "metadata": {},
   "outputs": [],
   "source": [
    "def get_catboost_by_side(side):\n",
    "    mn = 15\n",
    "\n",
    "    df = data[(data.target_bid >= mn)].reset_index(drop=True)\n",
    "\n",
    "    features_to_model = []\n",
    "\n",
    "    for i in range(1, mx):\n",
    "        features_to_model.append(f'{side}_volume_{i}')\n",
    "\n",
    "    full_x = df.loc[:, features_to_model]\n",
    "\n",
    "    full_y = df.loc[:, [f'target_{side}', f'{side}_price_1', 'midprice_5sec', f'midprice_profit_5sec_{side}']]\n",
    "    \n",
    "    threshold_1 = (int)((4/5) * len(full_x))\n",
    "    threshold_2 = (int)((4/5) * len(full_x))\n",
    "    x_train = full_x[:threshold_1]\n",
    "    y_train = full_y[:threshold_1]\n",
    "\n",
    "    x_test = full_x[threshold_2:].reset_index(drop=True)\n",
    "    y_test = full_y[threshold_2:].reset_index(drop=True)\n",
    "\n",
    "\n",
    "    target = f'target_{side}'\n",
    "    print(len(x_train))\n",
    "    \n",
    "    from catboost import CatBoostRegressor\n",
    "    catboost = CatBoostRegressor(loss_function='RMSE', n_estimators=1500)\n",
    "    catboost.fit(x_train, y_train[target], verbose=False, plot=True)\n",
    "    \n",
    "    return [catboost, x_train, x_test, y_train, y_test]"
   ]
  },
  {
   "cell_type": "code",
   "execution_count": null,
   "id": "0f0cd953",
   "metadata": {},
   "outputs": [],
   "source": [
    "ask_catboost = get_catboost_by_side(side)\n",
    "bid_catboost = get_catboost_by_side(side)"
   ]
  },
  {
   "cell_type": "code",
   "execution_count": null,
   "id": "d0b88d33",
   "metadata": {},
   "outputs": [],
   "source": [
    "importances = pd.DataFrame()\n",
    "importances['names'] = ask_catboost[0].feature_names_\n",
    "importances['importances'] = ask_catboost[0].feature_importances_\n",
    "importances.sort_values('importances')[::-1].reset_index(drop=True)[:60]"
   ]
  },
  {
   "cell_type": "code",
   "execution_count": null,
   "id": "dd549dd9",
   "metadata": {},
   "outputs": [],
   "source": [
    "importances = pd.DataFrame()\n",
    "importances['names'] = bid_catboost[0].feature_names_\n",
    "importances['importances'] = bid_catboost[0].feature_importances_\n",
    "importances.sort_values('importances')[::-1].reset_index(drop=True)[:60]"
   ]
  },
  {
   "cell_type": "markdown",
   "id": "673d570a",
   "metadata": {},
   "source": [
    "# predict profit calculating"
   ]
  },
  {
   "cell_type": "code",
   "execution_count": null,
   "id": "67e3c6f8",
   "metadata": {},
   "outputs": [],
   "source": [
    "mn = 15"
   ]
  },
  {
   "cell_type": "code",
   "execution_count": null,
   "id": "d00d615e",
   "metadata": {},
   "outputs": [],
   "source": [
    "def calc_rand_profit(data, mn, mx, side):\n",
    "    np_target = data[f'target_{side}'].to_numpy()\n",
    "    np_midprice_5sec = data['midprice_5sec'].to_numpy()\n",
    "    np_price = data[f'{side}_price_1'].to_numpy()\n",
    "    \n",
    "    final_ans = 0\n",
    "    \n",
    "    for i in tqdm(range(len(data))):\n",
    "        target = np_target[i]\n",
    "        cur_ans = 0\n",
    "        for j in range(mn, mx):\n",
    "            if target < j:\n",
    "                cur_ans += 0\n",
    "            else:\n",
    "                if side == 'bid':\n",
    "                    cur_ans += (np_midprice_5sec[i] - (np_price[i] - j) \n",
    "                                        - np_price[i] * (-5e-5)) * instrument_contract_size\n",
    "                else:\n",
    "                    cur_ans += ((np_price[i] + j) - np_midprice_5sec[i]\n",
    "                                        - np_price[i] * (-5e-5)) * instrument_contract_size\n",
    "        cur_ans /= (mx - mn)\n",
    "        final_ans += cur_ans\n",
    "    return final_ans"
   ]
  },
  {
   "cell_type": "code",
   "execution_count": null,
   "id": "76969db2",
   "metadata": {},
   "outputs": [],
   "source": [
    "def calc_pred_profit(np_predict, data, mn, side):\n",
    "    \n",
    "    np_target = data[f'target_{side}'].to_numpy()\n",
    "    np_midprice_5sec = data['midprice_5sec'].to_numpy()\n",
    "    np_price = data[f'{side}_price_1'].to_numpy()\n",
    "    \n",
    "    final_ans = 0\n",
    "    \n",
    "    for i in tqdm(range(len(data))):\n",
    "        predict = np_predict[i]\n",
    "        target = np_target[i]\n",
    "        cur_ans = 0\n",
    "        if target < predict:\n",
    "            cur_ans += 0\n",
    "        else:\n",
    "            if side == 'bid':\n",
    "                cur_ans += (np_midprice_5sec[i] - (np_price[i] - predict) \n",
    "                                    - np_price[i] * (-5e-5)) * instrument_contract_size\n",
    "            else:\n",
    "                cur_ans += ((np_price[i] + predict) - np_midprice_5sec[i]\n",
    "                                    - np_price[i] * (-5e-5)) * instrument_contract_size\n",
    "                \n",
    "        final_ans += cur_ans\n",
    "    return final_ans"
   ]
  },
  {
   "cell_type": "code",
   "execution_count": null,
   "id": "fa947185",
   "metadata": {},
   "outputs": [],
   "source": [
    "rnd_profit = calc_rand_profit(data, mn, 'ask') +\n",
    "                calc_rand_profit(data, mn, 'bid')\n",
    "rnd_profit"
   ]
  },
  {
   "cell_type": "code",
   "execution_count": null,
   "id": "60894f58",
   "metadata": {},
   "outputs": [],
   "source": [
    "ask_train_predict = ask_catboost[0].predict(ask_catboost[1])\n",
    "bid_train_predict = bid_catboost[0].predict(bid_catboost[1])\n",
    "\n",
    "calc_pred_profit(ask_train_predict, ask_catboost[3], mn) +\n",
    "    calc_pred_profit(bid_train_predict, bid_catboost[3], mn)"
   ]
  },
  {
   "cell_type": "code",
   "execution_count": null,
   "id": "c8348699",
   "metadata": {},
   "outputs": [],
   "source": [
    "ask_test_predict = ask_catboost[0].predict(ask_catboost[2])\n",
    "bid_test_predict = bid_catboost[0].predict(bid_catboost[2])\n",
    "\n",
    "calc_pred_profit(ask_test_predict, ask_catboost[4], mn) +\n",
    "    calc_pred_profit(bid_test_predict, bid_catboost[4], mn)"
   ]
  }
 ],
 "metadata": {
  "kernelspec": {
   "display_name": "Python 3 (ipykernel)",
   "language": "python",
   "name": "python3"
  },
  "language_info": {
   "codemirror_mode": {
    "name": "ipython",
    "version": 3
   },
   "file_extension": ".py",
   "mimetype": "text/x-python",
   "name": "python",
   "nbconvert_exporter": "python",
   "pygments_lexer": "ipython3",
   "version": "3.10.9"
  }
 },
 "nbformat": 4,
 "nbformat_minor": 5
}
